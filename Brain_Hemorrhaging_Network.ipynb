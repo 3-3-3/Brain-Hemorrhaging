{
 "cells": [
  {
   "cell_type": "code",
   "execution_count": null,
   "metadata": {},
   "outputs": [],
   "source": [
    "base_dir = '/home/wkeeley/Desktop/Brain-Hemorrhaging'\n",
    "image_dir = os.path.join(base_dir, 'Images')\n",
    "train_dir = os.path.join(image_dir, 'Train_Images')\n",
    "val_dir = os.path.join(image_dir, 'Validation_Images')\n",
    "\n",
    "dcm_dir = os.path.join(base_dir, 'stage_1_train_images')\n",
    "dcm_test_dir = os.path.join(base_dir, 'stage_1_test_images')\n",
    "\n",
    "sub_train_dirs = []\n",
    "sub_val_dirs = []\n",
    "\n",
    "for i in sub_types:\n",
    "    sub_train_dirs.append(os.path.join(train_dir, i))\n",
    "    sub_val_dirs.append(os.path.join(val_dir, i))"
   ]
  },
  {
   "cell_type": "code",
   "execution_count": 62,
   "metadata": {},
   "outputs": [
    {
     "name": "stdout",
     "output_type": "stream",
     "text": [
      "(?, 256, 256, 1)\n"
     ]
    }
   ],
   "source": [
    "#model One\n",
    "from keras import layers\n",
    "from keras import models\n",
    "from keras import Input\n",
    "\n",
    "input_tensor = Input(shape=(512, 512, 3))\n",
    "\n",
    "branch_a = layers.Conv2D(512, 1, strides=2, activation='relu')(input_tensor)\n",
    "\n",
    "branch_b = layers.SeparableConv2D(512, 1, activation='relu')(input_tensor)\n",
    "branch_b = layers.SeparableConv2D(512, 2, padding='same', activation='relu')(branch_b)\n",
    "branch_b = layers.SeparableConv2D(512, 4, padding='same', activation='relu')(branch_b)\n",
    "branch_b = layers.SpatialDropout2D(0.2)(branch_b)\n",
    "branch_b = layers.AveragePooling2D(2, strides=2)(branch_b)\n",
    "branch_b = layers.SeparableConv2D(512, 2, padding='same', activation='relu')(branch_b)\n",
    "branch_b = layers.SeparableConv2D(512, 2, padding='same', activation='relu')(branch_b)\n",
    "branch_b = layers.SpatialDropout2D(0.2)(branch_b)\n",
    "branch_b = layers.SeparableConv2D(512, 2, padding='same', activation='relu')(branch_b)\n",
    "branch_b = layers.SeparableConv2D(512, 2, padding='same', activation='relu')(branch_b)\n",
    "\n",
    "\n",
    "branch_c = layers.SeparableConv2D(512, 1, activation='relu')(input_tensor)\n",
    "branch_c = layers.SeparableConv2D(512, 2, padding='same', activation='relu')(branch_c)\n",
    "branch_c = layers.SeparableConv2D(512, 4, strides=2, padding='same', activation='relu')(branch_c)\n",
    "\n",
    "branch_d = layers.SeparableConv2D(512, 1, activation='relu')(input_tensor)\n",
    "branch_d = layers.SeparableConv2D(512, 1, activation='relu')(branch_d)\n",
    "branch_d_1 = layers.SeparableConv2D(512, 1, activation='relu')(branch_d)\n",
    "branch_d_1 = layers.SeparableConv2D(512, 1, activation='relu')(branch_d_1)\n",
    "branch_d_1 = layers.BatchNormalization()(branch_d_1)\n",
    "branch_d_1 = layers.SeparableConv2D(512, 4, padding='same', activation='relu')(branch_d_1)\n",
    "branch_d_1 = layers.SeparableConv2D(512, 4, padding='same', activation='relu')(branch_d_1)\n",
    "branch_d_1 = layers.add([branch_d_1, branch_d])\n",
    "branch_d_1 = layers.SeparableConv2D(512, 1, strides=2, activation='relu')(branch_d_1)\n",
    "\n",
    "\n",
    "out = layers.concatenate([branch_a, branch_b, branch_c, branch_d_1], axis=-1)\n",
    "out = layers.Dense(1, activation='sigmoid')(out)\n",
    "print(out.shape)"
   ]
  },
  {
   "cell_type": "code",
   "execution_count": null,
   "metadata": {},
   "outputs": [],
   "source": []
  },
  {
   "cell_type": "code",
   "execution_count": 3,
   "metadata": {},
   "outputs": [],
   "source": [
    "#Intraparechymal data Gen.\n",
    "from keras.preprocessing.image import ImageDataGenerator\n",
    "\n",
    "train_datagen = ImageDataGenerator(rescale=1./255)\n",
    "val_datagen = ImageDataGenerator(rescale=1./255)"
   ]
  },
  {
   "cell_type": "code",
   "execution_count": null,
   "metadata": {},
   "outputs": [],
   "source": [
    "def callbacks(category):\n",
    "    log_dir = os.path.join(base_dir, category + '_logs')\n",
    "    try:\n",
    "        os.mkdir(log_dir)\n",
    "    except FileExistsError:\n",
    "        pass\n",
    "    \n",
    "    callbacks = [\n",
    "    keras.callbacks.EarlyStopping(monitor='acc', patience=2),\n",
    "    keras.callbacks.ModelCheckpoint(file_path=category + '.h5', \n",
    "                                    monitor='val_loss', \n",
    "                                    save_best_only=True),\n",
    "    keras.callbacks.TensorBoard(log_dir=log_dir,\n",
    "                               histogram_freq=1,\n",
    "                               embeddings_freq=1)\n",
    "    ]\n",
    "    return callbacks\n",
    "    \n",
    "    "
   ]
  },
  {
   "cell_type": "code",
   "execution_count": null,
   "metadata": {},
   "outputs": [],
   "source": [
    "#epidural\n",
    "epidural_data = train_datagen.flow_from_dir(sub_train_dirs[0],\n",
    "                                           target_size=(512, 512),\n",
    "                                           batch_size=128,\n",
    "                                           class_mode='binary')\n",
    "\n",
    "epidural_val_data = test_datagen.flow_from_directory(sub_val_dirs[0],\n",
    "                                                       target_size=(512, 512),\n",
    "                                                       batch_size=128,\n",
    "                                                       class_mode='binary')\n",
    "epidural_callbacks = callbacks('epidural')"
   ]
  },
  {
   "cell_type": "code",
   "execution_count": null,
   "metadata": {},
   "outputs": [],
   "source": []
  },
  {
   "cell_type": "code",
   "execution_count": null,
   "metadata": {},
   "outputs": [],
   "source": [
    "\n",
    "\n",
    "out.compile(optimizer=optimizers.RMSprop(lr=2e-5),\n",
    "              loss='binary_crossentropy',\n",
    "              metrics=['acc'])\n",
    "history = out.fit_generator(epidural_data,\n",
    "                           steps_per_epoch=100,\n",
    "                           epochs=30,\n",
    "                           callbacks=epidural_callbacks,\n",
    "                           validation_data=epidural_val_data,\n",
    "                           validation_steps=50)"
   ]
  },
  {
   "cell_type": "code",
   "execution_count": null,
   "metadata": {},
   "outputs": [],
   "source": [
    "intraparenchymal_data = train_datagen.flow_from_dir(sub_train_dirs[1],\n",
    "                                           target_size=(512, 512),\n",
    "                                           batch_size=128,\n",
    "                                           class_mode='binary')\n",
    "\n",
    "intraparenchymal_val_data = test_datagen.flow_from_directory(sub_val_dirs[1],\n",
    "                                                       target_size=(512, 512),\n",
    "                                                       batch_size=128,\n",
    "                                                       class_mode='binary')"
   ]
  },
  {
   "cell_type": "code",
   "execution_count": null,
   "metadata": {},
   "outputs": [],
   "source": [
    "intraparenchymal_callbacks = callbacks('intraparenchymal')\n",
    "model.compile(optimizer=optimizers.RMSprop(lr=2e-5),\n",
    "              loss='binary_crossentropy',\n",
    "              metrics=['acc'])\n",
    "history = out.fit_generator(intraparenchymal_data,\n",
    "                           steps_per_epoch=100,\n",
    "                           epochs=30,\n",
    "                           callbacks=intraparenchymal_callbacks,\n",
    "                           validation_data=intraparenchymal_val_data,\n",
    "                           validation_steps=50)"
   ]
  }
 ],
 "metadata": {
  "kernelspec": {
   "display_name": "Python 3",
   "language": "python",
   "name": "python3"
  },
  "language_info": {
   "codemirror_mode": {
    "name": "ipython",
    "version": 3
   },
   "file_extension": ".py",
   "mimetype": "text/x-python",
   "name": "python",
   "nbconvert_exporter": "python",
   "pygments_lexer": "ipython3",
   "version": "3.6.5"
  }
 },
 "nbformat": 4,
 "nbformat_minor": 2
}

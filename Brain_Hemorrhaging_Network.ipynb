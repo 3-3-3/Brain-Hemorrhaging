{
 "cells": [
  {
   "cell_type": "code",
   "execution_count": null,
   "metadata": {},
   "outputs": [],
   "source": [
    "from time import sleep\n",
    "\n",
    "sleep(54000)"
   ]
  },
  {
   "cell_type": "code",
   "execution_count": null,
   "metadata": {},
   "outputs": [],
   "source": [
    "import os\n",
    "import keras\n",
    "\n",
    "base_dir = '/home/wkeeley/Desktop/Brain-Hemorrhaging'\n",
    "image_dir = os.path.join(base_dir, 'Images')\n",
    "train_dir = os.path.join(image_dir, 'Train_Images')\n",
    "val_dir = os.path.join(image_dir, 'Validation_Images')\n",
    "\n",
    "dcm_dir = os.path.join(base_dir, 'stage_1_train_images')\n",
    "dcm_test_dir = os.path.join(base_dir, 'stage_1_test_images')\n",
    "\n",
    "sub_types = ['epidural', 'intraparenchymal', 'intraventricular', 'subarachnoid', 'subdural']\n",
    "\n",
    "sub_train_dirs = []\n",
    "sub_val_dirs = []\n",
    "\n",
    "for i in sub_types:\n",
    "    sub_train_dirs.append(os.path.join(train_dir, i))\n",
    "    sub_val_dirs.append(os.path.join(val_dir, i))"
   ]
  },
  {
   "cell_type": "code",
   "execution_count": null,
   "metadata": {},
   "outputs": [],
   "source": [
    "from tensorflow.python.client import device_lib\n",
    "print(device_lib.list_local_devices())\n"
   ]
  },
  {
   "cell_type": "code",
   "execution_count": null,
   "metadata": {},
   "outputs": [],
   "source": []
  },
  {
   "cell_type": "code",
   "execution_count": null,
   "metadata": {},
   "outputs": [],
   "source": [
    "\n",
    "from keras import layers\n",
    "from keras import models\n",
    "from keras import Input\n",
    "\n",
    "input_tensor = Input(shape=(256, 256, 3))\n",
    "\n",
    "branch_a = layers.Conv2D(256, 1, strides=2, activation='relu')(input_tensor)\n",
    "branch_a = layers.Conv2D(128, 4, padding='same', strides=2, activation='relu')(branch_a)\n",
    "print(branch_a.shape)\n",
    "\n",
    "branch_b = layers.SeparableConv2D(256, 1, activation='relu')(input_tensor)\n",
    "branch_b = layers.Dropout(0.2)(branch_b)\n",
    "branch_b = layers.MaxPooling2D(strides=2)(branch_b)\n",
    "branch_b = layers.SeparableConv2D(128, 2, padding='same', activation='relu')(branch_b)\n",
    "branch_b = layers.MaxPooling2D(2, strides=2)(branch_b)\n",
    "branch_b = layers.SeparableConv2D(64, 2, padding='same', activation='relu')(branch_b)\n",
    "print(branch_b.shape)\n",
    "\n",
    "'''branch_b = layers.SeparableConv2D(256, 1, activation='relu')(input_tensor)\n",
    "branch_b = layers.SeparableConv2D(256, 4, padding='same', activation='relu')(branch_b)\n",
    "branch_b = layers.SpatialDropout2D(0.2)(branch_b)\n",
    "branch_b = layers.AveragePooling2D(2, strides=2)(branch_b)\n",
    "branch_b = layers.SeparableConv2D(256, 2, padding='same', activation='relu')(branch_b)\n",
    "branch_b = layers.SeparableConv2D(256, 2, padding='same', activation='relu')(branch_b)\n",
    "print(branch_b.shape)\n",
    "\n",
    "branch_d = layers.SeparableConv2D(256, 1, activation='relu')(input_tensor)\n",
    "branch_d = layers.SeparableConv2D(256, 1, activation='relu')(branch_d)\n",
    "branch_d = layers.SeparableConv2D(256, 1, activation='relu')(branch_d)\n",
    "branch_d = layers.SeparableConv2D(256, 1, activation='relu', strides=2)(branch_d)\n",
    "print(branch_d.shape)'''\n",
    "\n",
    "\n",
    "#out = layers.concatenate([branch_a, branch_b], axis=-1)\n",
    "out = layers.Flatten()(branch_b)\n",
    "out = layers.Dense(1, activation='sigmoid')(out)\n",
    "print(out.shape)\n",
    "\n"
   ]
  },
  {
   "cell_type": "code",
   "execution_count": null,
   "metadata": {},
   "outputs": [],
   "source": []
  },
  {
   "cell_type": "code",
   "execution_count": null,
   "metadata": {},
   "outputs": [],
   "source": [
    "\n",
    "from keras.preprocessing.image import ImageDataGenerator\n",
    "\n",
    "train_datagen = ImageDataGenerator(rescale=1./255)\n",
    "val_datagen = ImageDataGenerator(rescale=1./255)"
   ]
  },
  {
   "cell_type": "code",
   "execution_count": null,
   "metadata": {},
   "outputs": [],
   "source": [
    "\n",
    "def callbacks(category):\n",
    "    log_dir = os.path.join(base_dir, category + '_logs')\n",
    "    try:\n",
    "        os.mkdir(log_dir)\n",
    "    except FileExistsError:\n",
    "        pass\n",
    "    \n",
    "    callbacks = [\n",
    "    keras.callbacks.EarlyStopping(monitor='acc', patience=2),\n",
    "    keras.callbacks.ModelCheckpoint(category + '.h5', \n",
    "                                    monitor='val_loss', \n",
    "                                    save_best_only=True),\n",
    "    keras.callbacks.TensorBoard(log_dir=log_dir)\n",
    "    ]\n",
    "    return callbacks\n",
    "    \n",
    "    "
   ]
  },
  {
   "cell_type": "code",
   "execution_count": null,
   "metadata": {},
   "outputs": [],
   "source": [
    "#epidural\n",
    "epidural_data = train_datagen.flow_from_directory(sub_train_dirs[0],\n",
    "                                           target_size=(256, 256),\n",
    "                                           batch_size=32,\n",
    "                                           class_mode='binary')\n",
    "\n",
    "epidural_val_data = val_datagen.flow_from_directory(sub_val_dirs[0],\n",
    "                                                       target_size=(256, 256),\n",
    "                                                       batch_size=32,\n",
    "                                                       class_mode='binary')\n",
    "epidural_callbacks = callbacks('epidural')"
   ]
  },
  {
   "cell_type": "code",
   "execution_count": null,
   "metadata": {},
   "outputs": [],
   "source": [
    "epidural_data.batch_size"
   ]
  },
  {
   "cell_type": "code",
   "execution_count": null,
   "metadata": {
    "scrolled": true
   },
   "outputs": [],
   "source": [
    "epidural_model = keras.Model(inputs=input_tensor, output=out)\n",
    "\n",
    "epidural_model.compile(optimizer=keras.optimizers.RMSprop(lr=2e-3),\n",
    "              loss='binary_crossentropy',\n",
    "              metrics=['acc'])\n",
    "epidural_model.summary()"
   ]
  },
  {
   "cell_type": "code",
   "execution_count": null,
   "metadata": {},
   "outputs": [],
   "source": [
    "epidural_data.samples//epidural_data.batch_size"
   ]
  },
  {
   "cell_type": "code",
   "execution_count": null,
   "metadata": {},
   "outputs": [],
   "source": [
    "history = epidural_model.fit_generator(epidural_data,\n",
    "                           steps_per_epoch=epidural_data.samples//epidural_data.batch_size,\n",
    "                           epochs=64,\n",
    "                           callbacks=epidural_callbacks,\n",
    "                           validation_data=epidural_val_data,\n",
    "                           validation_steps=epidural_val_data.samples//epidural_val_data.batch_size,\n",
    "                           verbose=1,\n",
    "                           use_multiprocessing=True,\n",
    "                           workers=8)"
   ]
  },
  {
   "cell_type": "code",
   "execution_count": null,
   "metadata": {},
   "outputs": [],
   "source": [
    "intraparenchymal_data = train_datagen.flow_from_dir(sub_train_dirs[1],\n",
    "                                           target_size=(512, 512),\n",
    "                                           batch_size=128,\n",
    "                                           class_mode='binary')\n",
    "\n",
    "intraparenchymal_val_data = test_datagen.flow_from_directory(sub_val_dirs[1],\n",
    "                                                       target_size=(512, 512),\n",
    "                                                       batch_size=128,\n",
    "                                                       class_mode='binary')"
   ]
  },
  {
   "cell_type": "code",
   "execution_count": null,
   "metadata": {},
   "outputs": [],
   "source": [
    "intraparenchymal_callbacks = callbacks('intraparenchymal')\n",
    "model.compile(optimizer=optimizers.RMSprop(lr=2e-5),\n",
    "              loss='binary_crossentropy',\n",
    "              metrics=['acc'])\n",
    "history = out.fit_generator(intraparenchymal_data,\n",
    "                           steps_per_epoch=100,\n",
    "                           epochs=30,\n",
    "                           callbacks=intraparenchymal_callbacks,\n",
    "                           validation_data=intraparenchymal_val_data,\n",
    "                           validation_steps=50)"
   ]
  }
 ],
 "metadata": {
  "kernelspec": {
   "display_name": "Python 3",
   "language": "python",
   "name": "python3"
  },
  "language_info": {
   "codemirror_mode": {
    "name": "ipython",
    "version": 3
   },
   "file_extension": ".py",
   "mimetype": "text/x-python",
   "name": "python",
   "nbconvert_exporter": "python",
   "pygments_lexer": "ipython3",
   "version": "3.6.8"
  }
 },
 "nbformat": 4,
 "nbformat_minor": 2
}

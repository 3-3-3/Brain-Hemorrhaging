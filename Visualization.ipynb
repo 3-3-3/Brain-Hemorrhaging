{
 "cells": [
  {
   "cell_type": "code",
   "execution_count": 14,
   "metadata": {},
   "outputs": [],
   "source": [
    "import pandas as pd\n",
    "import numpy as np\n",
    "import matplotlib.pyplot as plt\n",
    "\n",
    "data = pd.read_csv('stage_1_train.csv')\n",
    "num_labels = len(data)\n",
    "num_positive = 0\n",
    "num_negative = 0\n",
    "\n",
    "\n",
    "\n",
    "for i in data['Label']:\n",
    "    if int(i) == 1:\n",
    "        num_positive = num_positive + 1\n",
    "    elif int(i) == 0:\n",
    "        num_negative = num_negative + 1\n",
    "    else:\n",
    "        print(str(i) + 'neither')"
   ]
  },
  {
   "cell_type": "code",
   "execution_count": 52,
   "metadata": {},
   "outputs": [
    {
     "name": "stdout",
     "output_type": "stream",
     "text": [
      "Total: 4045572\n",
      "Positive: 230812\n",
      "Negative: 3814760\n"
     ]
    }
   ],
   "source": [
    "print('Total: ' + str(num_labels))\n",
    "print('Positive: ' + str(num_positive))\n",
    "print('Negative: ' + str(num_negative))"
   ]
  },
  {
   "cell_type": "code",
   "execution_count": null,
   "metadata": {},
   "outputs": [],
   "source": [
    "sub_types = ['epidural', 'intraparenchymal', 'intraventricular', 'subarachnoid', 'subdural', 'any']"
   ]
  },
  {
   "cell_type": "code",
   "execution_count": 21,
   "metadata": {},
   "outputs": [
    {
     "data": {
      "text/plain": [
       "{'epidural_positive': 0,\n",
       " 'epidural_negative': 0,\n",
       " 'intraparenchymal_positive': 0,\n",
       " 'intraparenchymal_negative': 0,\n",
       " 'intraventricular_positive': 0,\n",
       " 'intraventricular_negative': 0,\n",
       " 'subarachnoid_positive': 0,\n",
       " 'subarachnoid_negative': 0,\n",
       " 'subdural_positive': 0,\n",
       " 'subdural_negative': 0,\n",
       " 'any_positive': 0,\n",
       " 'any_negative': 0}"
      ]
     },
     "execution_count": 21,
     "metadata": {},
     "output_type": "execute_result"
    }
   ],
   "source": [
    "sub_pos_neg = []\n",
    "for i in sub_types:\n",
    "    sub_pos_neg.extend([i + '_positive', i + '_negative'])\n",
    "sub_pos_neg_counts = dict(zip(sub_pos_neg, [0,0,0,0,0,0,0,0,0,0,0,0]))"
   ]
  },
  {
   "cell_type": "code",
   "execution_count": 18,
   "metadata": {},
   "outputs": [
    {
     "data": {
      "text/plain": [
       "674262"
      ]
     },
     "execution_count": 18,
     "metadata": {},
     "output_type": "execute_result"
    }
   ],
   "source": [
    "all_ids = []\n",
    "for i in range(len(data['ID'])):\n",
    "    if i % 6 == 0:\n",
    "        all_ids.append(str(data.iloc[i, 0])[3:12])\n",
    "\n",
    "len(all_ids)\n",
    "            "
   ]
  },
  {
   "cell_type": "code",
   "execution_count": 109,
   "metadata": {},
   "outputs": [],
   "source": [
    "total_neg = 0\n",
    "total_pos = 0\n",
    "\n",
    "\n",
    "for i in range(len(data['ID'])):\n",
    "    if i % 6 == 0:\n",
    "        if int(data.iloc[i, 1]) == 1:\n",
    "            sub_pos_neg_counts['epidural_positive'] += 1\n",
    "            total_pos += 1\n",
    "        else:\n",
    "            sub_pos_neg_counts['epidural_negative'] += 1\n",
    "            total_neg += 1\n",
    "    elif i % 6 == 1:\n",
    "        if int(data.iloc[i, 1]) == 1:\n",
    "            sub_pos_neg_counts['intraparenchymal_positive'] += 1\n",
    "            total_pos += 1\n",
    "        else:\n",
    "            sub_pos_neg_counts['intraparenchymal_negative'] += 1\n",
    "            total_neg += 1\n",
    "    elif i % 6 == 2:\n",
    "        if int(data.iloc[i, 1]) == 1:\n",
    "            sub_pos_neg_counts['intraventricular_positive'] += 1\n",
    "            total_pos += 1\n",
    "        else:\n",
    "            sub_pos_neg_counts['intraventricular_negative'] += 1\n",
    "            total_neg += 1\n",
    "    elif i % 6 == 3:\n",
    "        if int(data.iloc[i, 1]) == 1:\n",
    "            sub_pos_neg_counts['subarachnoid_positive'] += 1\n",
    "            total_pos += 1\n",
    "        else:\n",
    "            sub_pos_neg_counts['subarachnoid_negative'] += 1\n",
    "            total_neg += 1\n",
    "    elif i % 6 == 4:\n",
    "        if int(data.iloc[i, 1]) == 1:\n",
    "            sub_pos_neg_counts['subdural_positive'] += 1\n",
    "            total_pos += 1\n",
    "        else:\n",
    "            sub_pos_neg_counts['subdural_negative'] += 1\n",
    "            total_neg += 1\n",
    "    elif i % 6 == 5:\n",
    "        if int(data.iloc[i, 1]) == 1:\n",
    "            sub_pos_neg_counts['any_positive'] += 1\n",
    "            total_pos +=1\n",
    "        else:\n",
    "            sub_pos_neg_counts['any_negative'] += 1\n",
    "            total_neg += 1\n",
    "    else:\n",
    "        print('mistake')\n",
    "\n"
   ]
  },
  {
   "cell_type": "code",
   "execution_count": 110,
   "metadata": {},
   "outputs": [
    {
     "data": {
      "text/plain": [
       "{'epidural_positive': 22515,\n",
       " 'epidural_negative': 5481358,\n",
       " 'intraparenchymal_positive': 265877,\n",
       " 'intraparenchymal_negative': 5237996,\n",
       " 'intraventricular_positive': 193996,\n",
       " 'intraventricular_negative': 5309877,\n",
       " 'subarachnoid_positive': 262279,\n",
       " 'subarachnoid_negative': 5241594,\n",
       " 'subdural_positive': 346982,\n",
       " 'subdural_negative': 5156891,\n",
       " 'any_positive': 792687,\n",
       " 'any_negative': 4711186}"
      ]
     },
     "execution_count": 110,
     "metadata": {},
     "output_type": "execute_result"
    }
   ],
   "source": [
    "sub_pos_neg_counts"
   ]
  },
  {
   "cell_type": "code",
   "execution_count": 111,
   "metadata": {},
   "outputs": [
    {
     "data": {
      "text/plain": [
       "26427716"
      ]
     },
     "execution_count": 111,
     "metadata": {},
     "output_type": "execute_result"
    }
   ],
   "source": [
    "total_neg = 0\n",
    "for i in range(len(sub_pos_neg_counts.values())-2):\n",
    "    if i % 2 == 1:\n",
    "        total_neg += list(sub_pos_neg_counts.values())[i]\n",
    "total_neg"
   ]
  },
  {
   "cell_type": "code",
   "execution_count": 112,
   "metadata": {},
   "outputs": [
    {
     "data": {
      "image/png": "[encoded data removed]",
      "text/plain": [
       "<Figure size 432x288 with 1 Axes>"
      ]
     },
     "metadata": {
      "needs_background": "light"
     },
     "output_type": "display_data"
    },
    {
     "data": {
      "text/plain": [
       "<Figure size 720x720 with 0 Axes>"
      ]
     },
     "metadata": {},
     "output_type": "display_data"
    }
   ],
   "source": [
    "pos = []\n",
    "neg = []\n",
    "\n",
    "for i, k in sub_pos_neg_counts.items():\n",
    "    if i[-8:] == 'positive':\n",
    "        pos.append((k / sub_pos_neg_counts['any_positive'])*100)\n",
    "    else:\n",
    "        neg.append((k / total_neg)*100)\n",
    "\n",
    "\n",
    "\n",
    "negative = plt.bar(np.arange(5), neg[:5])\n",
    "\n",
    "plt.ylabel('Percent of All Negatives')\n",
    "plt.xlabel('Hemorrhage Type')\n",
    "plt.title('Percent of All Negative Results By Hemorrhage Type')\n",
    "plt.xticks(np.arange(5), sub_types[:5])\n",
    "plt.yticks(np.arange(0, 30, 10))\n",
    "plt.figure(figsize=(10,10))\n",
    "\n",
    "plt.show()"
   ]
  },
  {
   "cell_type": "code",
   "execution_count": 117,
   "metadata": {},
   "outputs": [
    {
     "name": "stdout",
     "output_type": "stream",
     "text": [
      "[2.8403392511798478, 33.5412338035063, 24.473215783783512, 33.08733459738838, 43.7728889208477]\n"
     ]
    },
    {
     "data": {
      "image/png": "[encoded data removed]",
      "text/plain": [
       "<Figure size 432x288 with 1 Axes>"
      ]
     },
     "metadata": {
      "needs_background": "light"
     },
     "output_type": "display_data"
    }
   ],
   "source": [
    "positive = plt.bar(np.arange(5), pos[:5])\n",
    "print(pos[:5])\n",
    "\n",
    "plt.ylabel('Percent of All Positives')\n",
    "plt.xlabel('Hemorrhage Type')\n",
    "plt.title('Percent of All Positive Results By Hemorrhage Type')\n",
    "plt.xticks(np.arange(5), sub_types[:5])\n",
    "plt.yticks(np.arange(0, 60, 10))\n",
    "\n",
    "plt.show()"
   ]
  },
  {
   "cell_type": "code",
   "execution_count": 38,
   "metadata": {},
   "outputs": [
    {
     "name": "stdout",
     "output_type": "stream",
     "text": [
      "negative\n"
     ]
    }
   ],
   "source": [
    "print(list(sub_pos_neg_counts.keys())[1][-8:])"
   ]
  },
  {
   "cell_type": "code",
   "execution_count": null,
   "metadata": {},
   "outputs": [],
   "source": []
  }
 ],
 "metadata": {
  "kernelspec": {
   "display_name": "Python 3",
   "language": "python",
   "name": "python3"
  },
  "language_info": {
   "codemirror_mode": {
    "name": "ipython",
    "version": 3
   },
   "file_extension": ".py",
   "mimetype": "text/x-python",
   "name": "python",
   "nbconvert_exporter": "python",
   "pygments_lexer": "ipython3",
   "version": "3.6.8"
  }
 },
 "nbformat": 4,
 "nbformat_minor": 2
}

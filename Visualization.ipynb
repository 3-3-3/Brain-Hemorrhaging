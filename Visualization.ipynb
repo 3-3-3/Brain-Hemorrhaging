{
 "cells": [
  {
   "cell_type": "code",
   "execution_count": 1,
   "metadata": {},
   "outputs": [],
   "source": [
    "import pandas as pd\n",
    "import numpy as np\n",
    "import matplotlib.pyplot as plt\n",
    "\n",
    "data = pd.read_csv('stage_1_train.csv')\n",
    "num_labels = len(data)\n",
    "num_positive = 0\n",
    "num_negative = 0\n",
    "\n",
    "base_dir = '/Users/TheBestKid/Desktop/Brain_Hemorrhaging'\n",
    "\n",
    "for i in data['Label']:\n",
    "    if int(i) == 1:\n",
    "        num_positive = num_positive + 1\n",
    "    elif int(i) == 0:\n",
    "        num_negative = num_negative + 1\n",
    "    else:\n",
    "        print(str(i) + 'neither')"
   ]
  },
  {
   "cell_type": "code",
   "execution_count": 2,
   "metadata": {},
   "outputs": [
    {
     "name": "stdout",
     "output_type": "stream",
     "text": [
      "Total: 4045572\n",
      "Positive: 230812\n",
      "Negative: 3814760\n"
     ]
    }
   ],
   "source": [
    "print('Total: ' + str(num_labels))\n",
    "print('Positive: ' + str(num_positive))\n",
    "print('Negative: ' + str(num_negative))"
   ]
  },
  {
   "cell_type": "code",
   "execution_count": 3,
   "metadata": {},
   "outputs": [],
   "source": [
    "sub_types = ['epidural', 'intraparenchymal', 'intraventricular', 'subarachnoid', 'subdural', 'any']"
   ]
  },
  {
   "cell_type": "code",
   "execution_count": 4,
   "metadata": {},
   "outputs": [],
   "source": [
    "sub_pos_neg = []\n",
    "for i in sub_types:\n",
    "    sub_pos_neg.extend([i + '_positive', i + '_negative'])\n",
    "sub_pos_neg_counts = dict(zip(sub_pos_neg, [0,0,0,0,0,0,0,0,0,0,0,0]))"
   ]
  },
  {
   "cell_type": "code",
   "execution_count": 5,
   "metadata": {},
   "outputs": [
    {
     "data": {
      "text/plain": [
       "674262"
      ]
     },
     "execution_count": 5,
     "metadata": {},
     "output_type": "execute_result"
    }
   ],
   "source": [
    "all_ids = []\n",
    "for i in range(len(data['ID'])):\n",
    "    if i % 6 == 0:\n",
    "        all_ids.append(str(data.iloc[i, 0])[3:12])\n",
    "\n",
    "len(all_ids)\n",
    "            "
   ]
  },
  {
   "cell_type": "code",
   "execution_count": 6,
   "metadata": {},
   "outputs": [],
   "source": [
    "total_neg = 0\n",
    "total_pos = 0\n",
    "\n",
    "\n",
    "for i in range(len(data['ID'])):\n",
    "    if i % 6 == 0:\n",
    "        if int(data.iloc[i, 1]) == 1:\n",
    "            sub_pos_neg_counts['epidural_positive'] += 1\n",
    "            total_pos += 1\n",
    "        else:\n",
    "            sub_pos_neg_counts['epidural_negative'] += 1\n",
    "            total_neg += 1\n",
    "    elif i % 6 == 1:\n",
    "        if int(data.iloc[i, 1]) == 1:\n",
    "            sub_pos_neg_counts['intraparenchymal_positive'] += 1\n",
    "            total_pos += 1\n",
    "        else:\n",
    "            sub_pos_neg_counts['intraparenchymal_negative'] += 1\n",
    "            total_neg += 1\n",
    "    elif i % 6 == 2:\n",
    "        if int(data.iloc[i, 1]) == 1:\n",
    "            sub_pos_neg_counts['intraventricular_positive'] += 1\n",
    "            total_pos += 1\n",
    "        else:\n",
    "            sub_pos_neg_counts['intraventricular_negative'] += 1\n",
    "            total_neg += 1\n",
    "    elif i % 6 == 3:\n",
    "        if int(data.iloc[i, 1]) == 1:\n",
    "            sub_pos_neg_counts['subarachnoid_positive'] += 1\n",
    "            total_pos += 1\n",
    "        else:\n",
    "            sub_pos_neg_counts['subarachnoid_negative'] += 1\n",
    "            total_neg += 1\n",
    "    elif i % 6 == 4:\n",
    "        if int(data.iloc[i, 1]) == 1:\n",
    "            sub_pos_neg_counts['subdural_positive'] += 1\n",
    "            total_pos += 1\n",
    "        else:\n",
    "            sub_pos_neg_counts['subdural_negative'] += 1\n",
    "            total_neg += 1\n",
    "    elif i % 6 == 5:\n",
    "        if int(data.iloc[i, 1]) == 1:\n",
    "            sub_pos_neg_counts['any_positive'] += 1\n",
    "            total_pos +=1\n",
    "        else:\n",
    "            sub_pos_neg_counts['any_negative'] += 1\n",
    "            total_neg += 1\n",
    "    else:\n",
    "        print('mistake')\n",
    "\n"
   ]
  },
  {
   "cell_type": "code",
   "execution_count": 7,
   "metadata": {},
   "outputs": [
    {
     "data": {
      "text/plain": [
       "{'epidural_positive': 2761,\n",
       " 'epidural_negative': 671501,\n",
       " 'intraparenchymal_positive': 32564,\n",
       " 'intraparenchymal_negative': 641698,\n",
       " 'intraventricular_positive': 23766,\n",
       " 'intraventricular_negative': 650496,\n",
       " 'subarachnoid_positive': 32122,\n",
       " 'subarachnoid_negative': 642140,\n",
       " 'subdural_positive': 42496,\n",
       " 'subdural_negative': 631766,\n",
       " 'any_positive': 97103,\n",
       " 'any_negative': 577159}"
      ]
     },
     "execution_count": 7,
     "metadata": {},
     "output_type": "execute_result"
    }
   ],
   "source": [
    "sub_pos_neg_counts"
   ]
  },
  {
   "cell_type": "code",
   "execution_count": 8,
   "metadata": {},
   "outputs": [
    {
     "data": {
      "text/plain": [
       "3237601"
      ]
     },
     "execution_count": 8,
     "metadata": {},
     "output_type": "execute_result"
    }
   ],
   "source": [
    "total_neg = 0\n",
    "for i in range(len(sub_pos_neg_counts.values())-2):\n",
    "    if i % 2 == 1:\n",
    "        total_neg += list(sub_pos_neg_counts.values())[i]\n",
    "total_neg"
   ]
  },
  {
   "cell_type": "code",
   "execution_count": 9,
   "metadata": {},
   "outputs": [
    {
     "data": {
      "image/png": "[encoded data removed]",
      "text/plain": [
       "<matplotlib.figure.Figure at 0x7fe115dfa2e8>"
      ]
     },
     "metadata": {
      "needs_background": "light"
     },
     "output_type": "display_data"
    },
    {
     "data": {
      "text/plain": [
       "<matplotlib.figure.Figure at 0x7fe115dbefd0>"
      ]
     },
     "metadata": {},
     "output_type": "display_data"
    }
   ],
   "source": [
    "pos = []\n",
    "neg = []\n",
    "\n",
    "for i, k in sub_pos_neg_counts.items():\n",
    "    if i[-8:] == 'positive':\n",
    "        pos.append((k / sub_pos_neg_counts['any_positive'])*100)\n",
    "    else:\n",
    "        neg.append((k / total_neg)*100)\n",
    "\n",
    "\n",
    "\n",
    "negative = plt.bar(np.arange(5), neg[:5])\n",
    "\n",
    "plt.ylabel('Percent of All Negatives')\n",
    "plt.xlabel('Hemorrhage Type')\n",
    "plt.title('Percent of All Negative Results By Hemorrhage Type')\n",
    "plt.xticks(np.arange(5), sub_types[:5])\n",
    "plt.yticks(np.arange(0, 30, 10))\n",
    "plt.figure(figsize=(10,10))\n",
    "\n",
    "plt.show()"
   ]
  },
  {
   "cell_type": "code",
   "execution_count": 10,
   "metadata": {},
   "outputs": [
    {
     "name": "stdout",
     "output_type": "stream",
     "text": [
      "[2.8433725013645303, 33.53552413416681, 24.475041965747714, 33.08033737371657, 43.7638383984017]\n"
     ]
    },
    {
     "data": {
      "image/png": "[encoded data removed]",
      "text/plain": [
       "<matplotlib.figure.Figure at 0x7fe115dfa9b0>"
      ]
     },
     "metadata": {
      "needs_background": "light"
     },
     "output_type": "display_data"
    },
    {
     "data": {
      "text/plain": [
       "<matplotlib.figure.Figure at 0x7fe115d719e8>"
      ]
     },
     "metadata": {},
     "output_type": "display_data"
    }
   ],
   "source": [
    "positive = plt.bar(np.arange(5), pos[:5])\n",
    "print(pos[:5])\n",
    "\n",
    "plt.ylabel('Percent of All Positives')\n",
    "plt.xlabel('Hemorrhage Type')\n",
    "plt.title('Percent of All Positive Results By Hemorrhage Type')\n",
    "plt.xticks(np.arange(5), (x[:8] for x in sub_types[:5]))\n",
    "plt.yticks(np.arange(0, 60, 10))\n",
    "plt.figure(figsize=(20, 20))\n",
    "\n",
    "plt.show()"
   ]
  },
  {
   "cell_type": "code",
   "execution_count": 11,
   "metadata": {},
   "outputs": [
    {
     "name": "stdout",
     "output_type": "stream",
     "text": [
      "negative\n"
     ]
    }
   ],
   "source": [
    "print(list(sub_pos_neg_counts.keys())[1][-8:])"
   ]
  },
  {
   "cell_type": "code",
   "execution_count": 12,
   "metadata": {},
   "outputs": [],
   "source": [
    "#from See like a radiologist with systematic windowing\n",
    "import pydicom as dcm\n",
    "def window_image(img, window_center, window_width, intercept, slope):\n",
    "    img = (img*slope + intercept)\n",
    "    img_min = window_center - window_width // 2\n",
    "    img_max = window_center + window_width // 2\n",
    "    img[img<img_min] = img_min\n",
    "    img[img>img_max] = img_max\n",
    "    \n",
    "    img = (img - img_min) / (img_max - img_min)\n",
    "    return img\n",
    "\n",
    "def get_windowing(data):\n",
    "    dicom_fields = [data[('0028', '1050')].value, data[('0028', '1051')].value, \n",
    "                    data[('0028', '1052')].value, data[('0028', '1053')].value]\n",
    "    int_fields = []\n",
    "    for x in dicom_fields:\n",
    "        if type(x) == dcm.multival.MultiValue:\n",
    "            int_fields.append(int(x[0]))\n",
    "        else:\n",
    "            int_fields.append(int(x))\n",
    "    return int_fields"
   ]
  },
  {
   "cell_type": "code",
   "execution_count": 13,
   "metadata": {},
   "outputs": [
    {
     "ename": "ModuleNotFoundError",
     "evalue": "No module named 'png'",
     "output_type": "error",
     "traceback": [
      "\u001b[0;31m---------------------------------------------------------------------------\u001b[0m",
      "\u001b[0;31mModuleNotFoundError\u001b[0m                       Traceback (most recent call last)",
      "\u001b[0;32m<ipython-input-13-72cbbc1ae2db>\u001b[0m in \u001b[0;36m<module>\u001b[0;34m\u001b[0m\n\u001b[1;32m      1\u001b[0m \u001b[0;32mimport\u001b[0m \u001b[0mcv2\u001b[0m\u001b[0;34m\u001b[0m\u001b[0;34m\u001b[0m\u001b[0m\n\u001b[1;32m      2\u001b[0m \u001b[0;32mimport\u001b[0m \u001b[0mos\u001b[0m\u001b[0;34m\u001b[0m\u001b[0;34m\u001b[0m\u001b[0m\n\u001b[0;32m----> 3\u001b[0;31m \u001b[0;32mimport\u001b[0m \u001b[0mpng\u001b[0m\u001b[0;34m\u001b[0m\u001b[0;34m\u001b[0m\u001b[0m\n\u001b[0m\u001b[1;32m      4\u001b[0m \u001b[0;34m\u001b[0m\u001b[0m\n\u001b[1;32m      5\u001b[0m \u001b[0;34m\u001b[0m\u001b[0m\n",
      "\u001b[0;31mModuleNotFoundError\u001b[0m: No module named 'png'"
     ]
    }
   ],
   "source": [
    "import cv2\n",
    "import os\n",
    "import png\n",
    "\n",
    "\n",
    "img_file = os.path.join(base_dir, 'ID_00008ce3c.dcm')\n",
    "img_data = dcm.read_file(img_file)\n",
    "window_center, window_width, intercept, slope = get_windowing(img_data)\n",
    "img = dcm.read_file(img_file).pixel_array\n",
    "epidural = window_image(img, 600, 2800, intercept, slope)\n",
    "brain = window_image(img, 40, 80, intercept, slope)\n",
    "subdural = window_image(img, 80, 200, intercept, slope)"
   ]
  },
  {
   "cell_type": "code",
   "execution_count": null,
   "metadata": {},
   "outputs": [],
   "source": [
    "plt.imshow(subdural, cmap=plt.cm.bone)\n",
    "plt.imsave('subdural.jpg', subdural, cmap=plt.cm.bone)"
   ]
  },
  {
   "cell_type": "code",
   "execution_count": null,
   "metadata": {},
   "outputs": [],
   "source": [
    "plt.imshow(brain, cmap=plt.cm.bone)\n",
    "plt.imsave('brain.jpg', brain, cmap=plt.cm.bone)"
   ]
  },
  {
   "cell_type": "code",
   "execution_count": null,
   "metadata": {},
   "outputs": [],
   "source": [
    "plt.imshow(epidural, cmap=plt.cm.bone)\n",
    "plt.imsave('epidural.jpg', epidural, cmap=plt.cm.bone)"
   ]
  },
  {
   "cell_type": "code",
   "execution_count": null,
   "metadata": {},
   "outputs": [],
   "source": []
  },
  {
   "cell_type": "code",
   "execution_count": null,
   "metadata": {},
   "outputs": [],
   "source": []
  },
  {
   "cell_type": "code",
   "execution_count": null,
   "metadata": {},
   "outputs": [],
   "source": []
  }
 ],
 "metadata": {
  "kernelspec": {
   "display_name": "Python 3",
   "language": "python",
   "name": "python3"
  },
  "language_info": {
   "codemirror_mode": {
    "name": "ipython",
    "version": 3
   },
   "file_extension": ".py",
   "mimetype": "text/x-python",
   "name": "python",
   "nbconvert_exporter": "python",
   "pygments_lexer": "ipython3",
   "version": "3.6.8"
  }
 },
 "nbformat": 4,
 "nbformat_minor": 2
}

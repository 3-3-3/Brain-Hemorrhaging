{
 "cells": [
  {
   "cell_type": "code",
   "execution_count": 2,
   "metadata": {},
   "outputs": [],
   "source": [
    "import pandas as pd\n",
    "import numpy as np\n",
    "import pydicom\n",
    "import os\n",
    "\n",
    "sub_types = ['epidural', 'intraparenchymal', 'intraventricular', 'subarachnoid', 'subdural']\n",
    "\n",
    "\n",
    "base_dir = '/home/wkeeley/Desktop/Brain-Hemorrhaging'\n",
    "image_dir = os.path.join(base_dir, 'Images')\n",
    "train_dir = os.path.join(image_dir, 'Train_Images')\n",
    "val_dir = os.path.join(image_dir, 'Validation_Images')\n",
    "\n",
    "dcm_dir = os.path.join(base_dir, 'stage_1_train_images')\n",
    "dcm_test_dir = os.path.join(base_dir, 'stage_1_test_images')\n",
    "\n",
    "sub_train_dirs = []\n",
    "sub_val_dirs = []\n",
    "\n",
    "for i in sub_types:\n",
    "    sub_train_dirs.append(os.path.join(train_dir, i))\n",
    "    sub_val_dirs.append(os.path.join(val_dir, i))\n",
    "\n"
   ]
  },
  {
   "cell_type": "code",
   "execution_count": 9,
   "metadata": {},
   "outputs": [],
   "source": [
    "#Setup file hierarchy\n",
    "for i in [ base_dir, image_dir, train_dir, val_dir]:\n",
    "    try:\n",
    "        os.mkdir(i)\n",
    "    except FileExistsError:\n",
    "        pass\n",
    "\n",
    "for i in sub_train_dirs:\n",
    "    try:\n",
    "        os.mkdir(i)\n",
    "        os.mkdir(os.path.join(i, 'positive'))\n",
    "        os.mkdir(os.path.join(i, 'negative'))\n",
    "    except FileExistsError:\n",
    "        pass\n",
    "\n",
    "for i in sub_val_dirs:\n",
    "    try:\n",
    "        os.mkdir(i)\n",
    "    except FileExistsError:\n",
    "        pass\n",
    "    "
   ]
  },
  {
   "cell_type": "code",
   "execution_count": null,
   "metadata": {},
   "outputs": [],
   "source": [
    "data = pd.read_csv('stage_1_train.csv')"
   ]
  },
  {
   "cell_type": "code",
   "execution_count": null,
   "metadata": {},
   "outputs": [],
   "source": [
    "#from See like a radiologist with systematic windowing\n",
    "def window_image(img, window_center, window_width, intercept, slope):\n",
    "    img = (img*slope + intercept)\n",
    "    img_min = window_center - window_width // 2\n",
    "    img_max = window_center + window_width // 2\n",
    "    img[img<img_min] = img_min\n",
    "    img[img>img_max] = img_max\n",
    "    \n",
    "    img = (img - img_min) / (img_max - img_min)\n",
    "    return img\n",
    "\n",
    "def get_windowing(data):\n",
    "    dicom_fields = [data[('0028', '1050')].value, data[('0028', '1051')].value, \n",
    "                    data[('0028', '1052')].value, data[('0028', '1053')].value]\n",
    "    int_fields = []\n",
    "    for x in dicom_fields:\n",
    "        if type(x) == pydicom.multival.MultiValue:\n",
    "            int_fields.append(int(x[0]))\n",
    "        else:\n",
    "            int_fields.append(int(x))\n",
    "    return int_fields\n",
    "    \n",
    "        "
   ]
  },
  {
   "cell_type": "code",
   "execution_count": null,
   "metadata": {},
   "outputs": [],
   "source": [
    "ids = []\n",
    "\n",
    "for i in range(len(data)):\n",
    "    img_id = data.iloc[i, 0][12]\n"
   ]
  },
  {
   "cell_type": "code",
   "execution_count": null,
   "metadata": {},
   "outputs": [],
   "source": [
    "import cv2\n",
    "\n",
    "for i in ids:\n",
    "    file = os.path.join(, img_id + '.dcm')\n",
    "    img_data = pydicom.read_file(file)\n",
    "    window_center, window_width, intercept, slope = get_windowing_data(img_data)\n",
    "    image = pydicom.read_file(file).pixel_array\n",
    "    file_path = ''\n",
    "    for i in sub_types:\n",
    "        if i == 'epidural':\n",
    "            img = window_image(image, 600, 2800, intercept, slope) #bone window\n",
    "            \n",
    "            if data.iloc[i, 1] == 1:\n",
    "                file_path = os.path.join(os.path.join(sub_train_dirs[0], 'positive'), img_id + '.jpg')\n",
    "            else:\n",
    "                file_path = os.path.join(os.path.join(sub_train_dirs[0], 'negative'), img_id + '.jpg')\n",
    "            \n",
    "            cv2.imwrite(file_path, img)\n",
    "\n",
    "        elif i == 'intraparechymal':\n",
    "            img = window_image(image, 40, 80, intercept, slope) #brain window\n",
    "            if data.iloc[i, 1] == 1:\n",
    "                file_path = os.path.join(os.path.join(sub_train_dirs[1], 'positive'), img_id + '.jpg')\n",
    "            else:\n",
    "                file_path = os.path.join(os.path.join(sub_train_dirs[1], 'negative'), img_id + '.jpg')\n",
    "            cv2.imwrite(file_path, img)   \n",
    "        elif i == 'intraventricular':\n",
    "            img =  window_image(image, 40, 80, intercept, slope) #brain window\n",
    "            if data.iloc[i, 1] == 1:\n",
    "                file_path = os.path.join(os.path.join(sub_train_dirs[2], 'positive'), img_id + '.jpg')\n",
    "            else:\n",
    "                file_path = os.path.join(os.path.join(sub_train_dirs[2], 'negative'), img_id + '.jpg')\n",
    "            cv2.imwrite(file_path, img)\n",
    "        elif i == 'subarachnoid':\n",
    "            img =  window_image(image, 40, 80, intercept, slope) #brain window\n",
    "            if data.iloc[i, 1] == 1:\n",
    "                file_path = os.path.join(os.path.join(sub_train_dirs[3], 'positive'), img_id + '.jpg')\n",
    "            else:\n",
    "                file_path = os.path.join(os.path.join(sub_train_dirs[3], 'negative'), img_id + '.jpg')\n",
    "            cv2.imwrite(file_path, img)\n",
    "        elif i == 'subdural':\n",
    "            img = window_image(image, 80, 200, intercept, slope) #subdural window\n",
    "            if data.iloc[i, 1] == 1:\n",
    "                file_path = os.path.join(os.path.join(sub_train_dirs[4], 'positive'), img_id + '.jpg')\n",
    "            else:\n",
    "                file_path = os.path.join(os.path.join(sub_train_dirs[4], 'negative'), img_id + '.jpg')\n",
    "            cv2.imwrite(file_path, img)"
   ]
  },
  {
   "cell_type": "code",
   "execution_count": null,
   "metadata": {},
   "outputs": [],
   "source": [
    "#epidural model\n",
    "from keras import layers\n",
    "from keras import models\n",
    "\n"
   ]
  }
 ],
 "metadata": {
  "kernelspec": {
   "display_name": "Python 3",
   "language": "python",
   "name": "python3"
  },
  "language_info": {
   "codemirror_mode": {
    "name": "ipython",
    "version": 3
   },
   "file_extension": ".py",
   "mimetype": "text/x-python",
   "name": "python",
   "nbconvert_exporter": "python",
   "pygments_lexer": "ipython3",
   "version": "3.6.8"
  }
 },
 "nbformat": 4,
 "nbformat_minor": 2
}

{
 "cells": [
  {
   "cell_type": "code",
   "execution_count": 3,
   "metadata": {},
   "outputs": [],
   "source": [
    "import pandas as pd\n",
    "import matplotlib.pyplot as plt\n",
    "import numpy as np\n",
    "import pydicom\n",
    "import os\n",
    "\n",
    "sub_types = ['epidural', 'intraparenchymal', 'intraventricular', 'subarachnoid', 'subdural']\n",
    "\n",
    "\n",
    "base_dir = '/home/wkeeley/Desktop/Brain-Hemorrhaging'\n",
    "image_dir = os.path.join(base_dir, 'Images')\n",
    "train_dir = os.path.join(image_dir, 'Train_Images')\n",
    "val_dir = os.path.join(image_dir, 'Validation_Images')\n",
    "\n",
    "dcm_dir = os.path.join(base_dir, 'stage_1_train_images')\n",
    "dcm_test_dir = os.path.join(base_dir, 'stage_1_test_images')\n",
    "\n",
    "sub_train_dirs = []\n",
    "sub_val_dirs = []\n",
    "\n",
    "for i in sub_types:\n",
    "    sub_train_dirs.append(os.path.join(train_dir, i))\n",
    "    sub_val_dirs.append(os.path.join(val_dir, i))\n",
    "\n"
   ]
  },
  {
   "cell_type": "code",
   "execution_count": 4,
   "metadata": {},
   "outputs": [
    {
     "ename": "FileNotFoundError",
     "evalue": "[Errno 2] No such file or directory: '/home/wkeeley/Desktop/Brain-Hemorrhaging'",
     "output_type": "error",
     "traceback": [
      "\u001b[0;31m---------------------------------------------------------------------------\u001b[0m",
      "\u001b[0;31mFileNotFoundError\u001b[0m                         Traceback (most recent call last)",
      "\u001b[0;32m<ipython-input-4-e74cfbeff7e6>\u001b[0m in \u001b[0;36m<module>\u001b[0;34m\u001b[0m\n\u001b[1;32m      2\u001b[0m \u001b[0;32mfor\u001b[0m \u001b[0mi\u001b[0m \u001b[0;32min\u001b[0m \u001b[0;34m[\u001b[0m\u001b[0mbase_dir\u001b[0m\u001b[0;34m,\u001b[0m \u001b[0mimage_dir\u001b[0m\u001b[0;34m,\u001b[0m \u001b[0mtrain_dir\u001b[0m\u001b[0;34m,\u001b[0m \u001b[0mval_dir\u001b[0m\u001b[0;34m]\u001b[0m\u001b[0;34m:\u001b[0m\u001b[0;34m\u001b[0m\u001b[0m\n\u001b[1;32m      3\u001b[0m     \u001b[0;32mtry\u001b[0m\u001b[0;34m:\u001b[0m\u001b[0;34m\u001b[0m\u001b[0m\n\u001b[0;32m----> 4\u001b[0;31m         \u001b[0mos\u001b[0m\u001b[0;34m.\u001b[0m\u001b[0mmkdir\u001b[0m\u001b[0;34m(\u001b[0m\u001b[0mi\u001b[0m\u001b[0;34m)\u001b[0m\u001b[0;34m\u001b[0m\u001b[0m\n\u001b[0m\u001b[1;32m      5\u001b[0m     \u001b[0;32mexcept\u001b[0m \u001b[0mFileExistsError\u001b[0m\u001b[0;34m:\u001b[0m\u001b[0;34m\u001b[0m\u001b[0m\n\u001b[1;32m      6\u001b[0m         \u001b[0;32mpass\u001b[0m\u001b[0;34m\u001b[0m\u001b[0m\n",
      "\u001b[0;31mFileNotFoundError\u001b[0m: [Errno 2] No such file or directory: '/home/wkeeley/Desktop/Brain-Hemorrhaging'"
     ]
    }
   ],
   "source": [
    "#Setup file hierarchy\n",
    "for i in [base_dir, image_dir, train_dir, val_dir]:\n",
    "    try:\n",
    "        os.mkdir(i)\n",
    "    except FileExistsError:\n",
    "        pass\n",
    "\n",
    "for i in sub_train_dirs:\n",
    "    try:\n",
    "        os.mkdir(i)\n",
    "        os.mkdir(os.path.join(i, 'positive'))\n",
    "        os.mkdir(os.path.join(i, 'negative'))\n",
    "    except FileExistsError:\n",
    "        pass\n",
    "\n",
    "for i in sub_val_dirs:\n",
    "    try:\n",
    "        os.mkdir(i)\n",
    "    except FileExistsError:\n",
    "        pass\n",
    "    "
   ]
  },
  {
   "cell_type": "code",
   "execution_count": null,
   "metadata": {},
   "outputs": [],
   "source": [
    "data = pd.read_csv('stage_1_train.csv')"
   ]
  },
  {
   "cell_type": "code",
   "execution_count": null,
   "metadata": {},
   "outputs": [],
   "source": []
  },
  {
   "cell_type": "code",
   "execution_count": 2,
   "metadata": {},
   "outputs": [
    {
     "ename": "NameError",
     "evalue": "name 'data' is not defined",
     "output_type": "error",
     "traceback": [
      "\u001b[0;31m---------------------------------------------------------------------------\u001b[0m",
      "\u001b[0;31mNameError\u001b[0m                                 Traceback (most recent call last)",
      "\u001b[0;32m<ipython-input-2-632d1178c75d>\u001b[0m in \u001b[0;36m<module>\u001b[0;34m\u001b[0m\n\u001b[1;32m      1\u001b[0m \u001b[0mids\u001b[0m \u001b[0;34m=\u001b[0m \u001b[0;34m[\u001b[0m\u001b[0;34m]\u001b[0m\u001b[0;34m\u001b[0m\u001b[0m\n\u001b[1;32m      2\u001b[0m \u001b[0;34m\u001b[0m\u001b[0m\n\u001b[0;32m----> 3\u001b[0;31m \u001b[0;32mfor\u001b[0m \u001b[0mi\u001b[0m \u001b[0;32min\u001b[0m \u001b[0mrange\u001b[0m\u001b[0;34m(\u001b[0m\u001b[0mlen\u001b[0m\u001b[0;34m(\u001b[0m\u001b[0mdata\u001b[0m\u001b[0;34m)\u001b[0m\u001b[0;34m)\u001b[0m\u001b[0;34m:\u001b[0m\u001b[0;34m\u001b[0m\u001b[0m\n\u001b[0m\u001b[1;32m      4\u001b[0m     \u001b[0mimg_id\u001b[0m \u001b[0;34m=\u001b[0m \u001b[0mdata\u001b[0m\u001b[0;34m.\u001b[0m\u001b[0miloc\u001b[0m\u001b[0;34m[\u001b[0m\u001b[0mi\u001b[0m\u001b[0;34m,\u001b[0m \u001b[0;36m0\u001b[0m\u001b[0;34m]\u001b[0m\u001b[0;34m[\u001b[0m\u001b[0;36m12\u001b[0m\u001b[0;34m]\u001b[0m\u001b[0;34m\u001b[0m\u001b[0m\n",
      "\u001b[0;31mNameError\u001b[0m: name 'data' is not defined"
     ]
    }
   ],
   "source": [
    "ids = []\n",
    "\n",
    "for i in range(len(data)):\n",
    "    img_id = data.iloc[i, 0][12]\n"
   ]
  },
  {
   "cell_type": "code",
   "execution_count": 1,
   "metadata": {},
   "outputs": [
    {
     "ename": "NameError",
     "evalue": "name 'ids' is not defined",
     "output_type": "error",
     "traceback": [
      "\u001b[0;31m---------------------------------------------------------------------------\u001b[0m",
      "\u001b[0;31mNameError\u001b[0m                                 Traceback (most recent call last)",
      "\u001b[0;32m<ipython-input-1-eb4deb711a15>\u001b[0m in \u001b[0;36m<module>\u001b[0;34m\u001b[0m\n\u001b[0;32m----> 1\u001b[0;31m \u001b[0mlen\u001b[0m\u001b[0;34m(\u001b[0m\u001b[0mids\u001b[0m\u001b[0;34m)\u001b[0m\u001b[0;34m\u001b[0m\u001b[0m\n\u001b[0m",
      "\u001b[0;31mNameError\u001b[0m: name 'ids' is not defined"
     ]
    }
   ],
   "source": [
    "len(ids)"
   ]
  },
  {
   "cell_type": "code",
   "execution_count": null,
   "metadata": {},
   "outputs": [],
   "source": [
    "from windowing import window_image, get_windowing\n",
    "num_images = 674262 #From data viz\n",
    "\n",
    "for i in ids[:num_images*0.9]:\n",
    "    file = os.path.join(dcm_dir, img_id + '.dcm')\n",
    "    img_data = pydicom.read_file(file)\n",
    "    window_center, window_width, intercept, slope = get_windowing(img_data)\n",
    "    image = pydicom.read_file(file).pixel_array\n",
    "    file_path = ''\n",
    "    for i in sub_types:\n",
    "        if i == 'epidural':\n",
    "            img = window_image(image, 600, 2800, intercept, slope) #bone window\n",
    "            \n",
    "            if data.iloc[i, 1] == 1:\n",
    "                file_path = os.path.join(os.path.join(sub_train_dirs[0], 'positive'), img_id + '.jpg')\n",
    "            else:\n",
    "                file_path = os.path.join(os.path.join(sub_train_dirs[0], 'negative'), img_id + '.jpg')\n",
    "            \n",
    "            plt.imwrite(file_path, img, cmap=plt.cm.bone)\n",
    "\n",
    "        elif i == 'intraparechymal':\n",
    "            img = window_image(image, 40, 80, intercept, slope) #brain window\n",
    "            if data.iloc[i, 1] == 1:\n",
    "                file_path = os.path.join(os.path.join(sub_train_dirs[1], 'positive'), img_id + '.jpg')\n",
    "            else:\n",
    "                file_path = os.path.join(os.path.join(sub_train_dirs[1], 'negative'), img_id + '.jpg')\n",
    "            plt.imwrite(file_path, img, cmap=plt.cm.bone)   \n",
    "        elif i == 'intraventricular':\n",
    "            img =  window_image(image, 40, 80, intercept, slope) #brain window\n",
    "            if data.iloc[i, 1] == 1:\n",
    "                file_path = os.path.join(os.path.join(sub_train_dirs[2], 'positive'), img_id + '.jpg')\n",
    "            else:\n",
    "                file_path = os.path.join(os.path.join(sub_train_dirs[2], 'negative'), img_id + '.jpg')\n",
    "            plt.imwrite(file_path, img, cmap=plt.cm.bone)\n",
    "        elif i == 'subarachnoid':\n",
    "            img =  window_image(image, 40, 80, intercept, slope) #brain window\n",
    "            if data.iloc[i, 1] == 1:\n",
    "                file_path = os.path.join(os.path.join(sub_train_dirs[3], 'positive'), img_id + '.jpg')\n",
    "            else:\n",
    "                file_path = os.path.join(os.path.join(sub_train_dirs[3], 'negative'), img_id + '.jpg')\n",
    "            plt.imwrite(file_path, img, cmap=plt.cm.bone)\n",
    "        elif i == 'subdural':\n",
    "            img = window_image(image, 80, 200, intercept, slope) #subdural window\n",
    "            if data.iloc[i, 1] == 1:\n",
    "                file_path = os.path.join(os.path.join(sub_train_dirs[4], 'positive'), img_id + '.jpg')\n",
    "            else:\n",
    "                file_path = os.path.join(os.path.join(sub_train_dirs[4], 'negative'), img_id + '.jpg')\n",
    "            plt.imwrite(file_path, img, cmap=plt.cm.bone)\n",
    "\n",
    "for i in ids[0.9*num_images:num_images]:\n",
    "    file = os.path.join(dcm_dir, img_id + '.dcm')\n",
    "    img_data = pydicom.read_file(file)\n",
    "    window_center, window_width, intercept, slope = get_windowing_data(img_data)\n",
    "    image = pydicom.read_file(file).pixel_array\n",
    "    file_path = ''\n",
    "    \n",
    "    for i in sub_types:\n",
    "        if i == 'epidural':\n",
    "            img = window_image(image, 600, 2800, intercept, slope) #bone window\n",
    "            \n",
    "            if data.iloc[i, 1] == 1:\n",
    "                file_path = os.path.join(os.path.join(sub_train_dirs[0], 'positive'), img_id + '.jpg')\n",
    "            else:\n",
    "                file_path = os.path.join(os.path.join(sub_train_dirs[0], 'negative'), img_id + '.jpg')\n",
    "            \n",
    "            plt.imsave\n",
    "\n",
    "        elif i == 'intraparechymal':\n",
    "            img = window_image(image, 40, 80, intercept, slope) #brain window\n",
    "            if data.iloc[i, 1] == 1:\n",
    "                file_path = os.path.join(os.path.join(sub_val_dirs[1], 'positive'), img_id + '.jpg')\n",
    "            else:\n",
    "                file_path = os.path.join(os.path.join(sub_val_dirs[1], 'negative'), img_id + '.jpg')\n",
    "            plt.imwrite(file_path, img, cmap=plt.cm.bone)   \n",
    "        elif i == 'intraventricular':\n",
    "            img =  window_image(image, 40, 80, intercept, slope) #brain window\n",
    "            if data.iloc[i, 1] == 1:\n",
    "                file_path = os.path.join(os.path.join(sub_val_dirs[2], 'positive'), img_id + '.jpg')\n",
    "            else:\n",
    "                file_path = os.path.join(os.path.join(sub_val_dirs[2], 'negative'), img_id + '.jpg')\n",
    "            plt.imwrite(file_path, img, cmap=plt.cm.bone)\n",
    "        elif i == 'subarachnoid':\n",
    "            img =  window_image(image, 40, 80, intercept, slope) #brain window\n",
    "            if data.iloc[i, 1] == 1:\n",
    "                file_path = os.path.join(os.path.join(sub_val_dirs[3], 'positive'), img_id + '.jpg')\n",
    "            else:\n",
    "                file_path = os.path.join(os.path.join(sub_val_dirs[3], 'negative'), img_id + '.jpg')\n",
    "            plt.imwrite(file_path, img, cmap=plt.cm.bone)\n",
    "        elif i == 'subdural':\n",
    "            img = window_image(image, 80, 200, intercept, slope) #subdural window\n",
    "            if data.iloc[i, 1] == 1:\n",
    "                file_path = os.path.join(os.path.join(sub_val_dirs[4], 'positive'), img_id + '.jpg')\n",
    "            else:\n",
    "                file_path = os.path.join(os.path.join(sub_val_dirs[4], 'negative'), img_id + '.jpg')\n",
    "            plt.imwrite(file_path, img, cmap=plt.cm.bone)"
   ]
  }
 ],
 "metadata": {
  "kernelspec": {
   "display_name": "Python 3",
   "language": "python",
   "name": "python3"
  },
  "language_info": {
   "codemirror_mode": {
    "name": "ipython",
    "version": 3
   },
   "file_extension": ".py",
   "mimetype": "text/x-python",
   "name": "python",
   "nbconvert_exporter": "python",
   "pygments_lexer": "ipython3",
   "version": "3.6.5"
  }
 },
 "nbformat": 4,
 "nbformat_minor": 2
}
